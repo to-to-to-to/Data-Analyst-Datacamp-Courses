{
 "cells": [
  {
   "cell_type": "code",
   "execution_count": null,
   "metadata": {},
   "outputs": [],
   "source": [
    "#Count plots and bar plots\n",
    "import matplotlib.pyplot as plt \n",
    "import seaborn as sns\n",
    "\n",
    "category_order = [\"No Answer\", \"Not at All\", \"Not very\", \"Somewhat\", \"Very\"]\n",
    "\n",
    "sns.catplot(x = \"how_masculine\", data = masculinity_data, kind = \"count\",\n",
    "            order = category_corder) #catplot fungsinya sama spt relplot\n",
    "plt.show()\n",
    "\n",
    "\n",
    "#Bar plot\n",
    "sns.catplot(x = \"day\", y = \"total_bill\", data = tips, kind = \"bar\")\n",
    "plt.show()"
   ]
  },
  {
   "cell_type": "code",
   "execution_count": null,
   "metadata": {},
   "outputs": [],
   "source": [
    "#Latihan 1\n",
    "# Create column subplots based on age category\n",
    "sns.catplot(y=\"Internet usage\", data=survey_data,\n",
    "            kind=\"count\", col = \"Age Category\")\n",
    "\n",
    "# Show plot\n",
    "plt.show()"
   ]
  },
  {
   "cell_type": "code",
   "execution_count": null,
   "metadata": {},
   "outputs": [],
   "source": [
    "#Latihan 2\n",
    "# Create a bar plot of interest in math, separated by gender\n",
    "sns.catplot(x = \"Gender\", y = \"Interested in Math\", data = survey_data, kind = \"bar\")\n",
    "\n",
    "\n",
    "# Show plot\n",
    "plt.show()"
   ]
  },
  {
   "cell_type": "code",
   "execution_count": null,
   "metadata": {},
   "outputs": [],
   "source": [
    "#Latihan 3\n",
    "# Turn off the confidence intervals\n",
    "sns.catplot(x=\"study_time\", y=\"G3\",\n",
    "            data=student_data,\n",
    "            kind=\"bar\",\n",
    "            order=[\"<2 hours\", \n",
    "                   \"2 to 5 hours\", \n",
    "                   \"5 to 10 hours\", \n",
    "                   \">10 hours\"], ci = None)\n",
    "\n",
    "# Show plot\n",
    "plt.show()"
   ]
  },
  {
   "cell_type": "code",
   "execution_count": null,
   "metadata": {},
   "outputs": [],
   "source": [
    "#Box plots\n",
    "sns.catplot(x = \"time\", y = \"total_bill\", data = tips, kind = \"box\", order = [\"Dinner\", \"Lunch\"],\n",
    "            sym = \" \", whis = [0,100])#sym buat ilangin outliers\n",
    "'''\n",
    "whis 2.0 -> di extend ke 2\n",
    "whis 5,95 buat liat persentil ke 5 dan 95\n",
    "whis 0 ,100 buat liat min max\n",
    "'''\n",
    "plt.show()"
   ]
  },
  {
   "cell_type": "code",
   "execution_count": null,
   "metadata": {},
   "outputs": [],
   "source": [
    "#Latihan 1\n",
    "# Specify the category ordering\n",
    "study_time_order = [\"<2 hours\", \"2 to 5 hours\", \n",
    "                    \"5 to 10 hours\", \">10 hours\"]\n",
    "\n",
    "# Create a box plot and set the order of the categories\n",
    "sns.catplot(x = \"study_time\", y = \"G3\", data = student_data,kind = \"box\", order = study_time_order)\n",
    "\n",
    "# Show plot\n",
    "plt.show()"
   ]
  },
  {
   "cell_type": "code",
   "execution_count": null,
   "metadata": {},
   "outputs": [],
   "source": [
    "#Latihan 2\n",
    "# Create a box plot with subgroups and omit the outliers\n",
    "sns.catplot(data = student_data, x = \"internet\", y = \"G3\", kind = \"box\", hue = \"location\", sym = '')\n",
    "\n",
    "# Show plot\n",
    "plt.show()"
   ]
  },
  {
   "cell_type": "code",
   "execution_count": null,
   "metadata": {},
   "outputs": [],
   "source": [
    "#Latihan 3\n",
    "# Set the whiskers at the min and max values\n",
    "sns.catplot(x=\"romantic\", y=\"G3\",\n",
    "            data=student_data,\n",
    "            kind=\"box\",\n",
    "            whis=[0, 100])\n",
    "\n",
    "# Show plot\n",
    "plt.show()"
   ]
  },
  {
   "cell_type": "code",
   "execution_count": null,
   "metadata": {},
   "outputs": [],
   "source": [
    "#Point plots\n",
    "sns.catplot(x = \"age\", y = \"masculinity_important\", data = masculinity_data, kind = \"point\", hue = \"feel_masculine\")\n",
    "plt.show()\n",
    "\n",
    "sns.catplot(x = \"age\", y = \"masculinity_important\", data = masculinity_data, kind = \"point\",\n",
    "            hue = \"feel_masculine\", join = False) #join buat ilangin garis nya\n",
    "plt.show()\n",
    "\n",
    "from numpy import median\n",
    "sns.catplot( x = \"smoker\", y = \"total_bill\", data = tips, kind = \"point\", estimator = median,\n",
    "            capsize = 0.2) #nunjukkin median, capsize buat nunjukkin size dr plot\n",
    "plt.show()"
   ]
  },
  {
   "cell_type": "code",
   "execution_count": null,
   "metadata": {},
   "outputs": [],
   "source": [
    "#Latihan 1\n",
    "# Remove the lines joining the points\n",
    "sns.catplot(x=\"famrel\", y=\"absences\",\n",
    "\t\t\tdata=student_data,\n",
    "            kind=\"point\",\n",
    "            capsize=0.2, join = False)\n",
    "            \n",
    "# Show plot\n",
    "plt.show()"
   ]
  },
  {
   "cell_type": "code",
   "execution_count": null,
   "metadata": {},
   "outputs": [],
   "source": [
    "#Latihan 2\n",
    "# Import median function from numpy\n",
    "from numpy import median\n",
    "\n",
    "# Plot the median number of absences instead of the mean\n",
    "sns.catplot(x=\"romantic\", y=\"absences\",\n",
    "\t\t\tdata=student_data,\n",
    "            kind=\"point\",\n",
    "            hue=\"school\",\n",
    "            ci=None, estimator = median)\n",
    "\n",
    "# Show plot\n",
    "plt.show()"
   ]
  }
 ],
 "metadata": {
  "kernelspec": {
   "display_name": "Python 3",
   "language": "python",
   "name": "python3"
  },
  "language_info": {
   "codemirror_mode": {
    "name": "ipython",
    "version": 3
   },
   "file_extension": ".py",
   "mimetype": "text/x-python",
   "name": "python",
   "nbconvert_exporter": "python",
   "pygments_lexer": "ipython3",
   "version": "3.8.5"
  }
 },
 "nbformat": 4,
 "nbformat_minor": 4
}
