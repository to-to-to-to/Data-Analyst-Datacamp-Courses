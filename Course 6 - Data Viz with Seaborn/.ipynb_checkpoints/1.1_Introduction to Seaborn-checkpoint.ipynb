{
 "cells": [
  {
   "cell_type": "code",
   "execution_count": 1,
   "metadata": {},
   "outputs": [
    {
     "data": {
      "image/png": "[encoded data removed]",
      "text/plain": [
       "<Figure size 432x288 with 1 Axes>"
      ]
     },
     "metadata": {
      "needs_background": "light"
     },
     "output_type": "display_data"
    }
   ],
   "source": [
    "#Introduction to Seaborn\n",
    "import seaborn as sns\n",
    "import matplotlib.pyplot as plt\n",
    "\n",
    "sns.scatterplot(x = height, y = weight)\n",
    "plt.show()\n",
    "\n",
    "#count plot\n",
    "gender = [\"female\", \"female\", \"male\", \"male\", \"male\"] \n",
    "sns.countplot(x = gender)\n",
    "plt.show()"
   ]
  },
  {
   "cell_type": "code",
   "execution_count": null,
   "metadata": {},
   "outputs": [],
   "source": [
    "#Latihan 1\n",
    "# Import Matplotlib and Seaborn\n",
    "import matplotlib.pyplot as plt\n",
    "import seaborn as sns\n",
    "\n",
    "# Change this scatter plot to have percent literate on the y-axis\n",
    "sns.scatterplot(x=gdp, y=percent_literate)\n",
    "\n",
    "# Show plot\n",
    "plt.show()"
   ]
  },
  {
   "cell_type": "code",
   "execution_count": null,
   "metadata": {},
   "outputs": [],
   "source": [
    "#Latihan 2\n",
    "# Import Matplotlib and Seaborn\n",
    "import matplotlib.pyplot as plt\n",
    "import seaborn as sns\n",
    "\n",
    "# Create count plot with region on the y-axis\n",
    "sns.countplot(y= region)\n",
    "\n",
    "# Show plot\n",
    "plt.show()"
   ]
  },
  {
   "cell_type": "code",
   "execution_count": null,
   "metadata": {},
   "outputs": [],
   "source": [
    "#Using pandas with Seaborn\n",
    "import pandas as pd\n",
    "import matplotlib.pyplot as plt\n",
    "import seaborn as sns\n",
    "\n",
    "df = pd.read_csv('masculinity.csv')\n",
    "df.head()\n",
    "\n",
    "sns.countplot(x = \"how_masculine\", data = df)\n",
    "plt.show()\n"
   ]
  },
  {
   "cell_type": "code",
   "execution_count": null,
   "metadata": {},
   "outputs": [],
   "source": [
    "#Latihan 1\n",
    "# Import Matplotlib, Pandas, and Seaborn\n",
    "import pandas as pd\n",
    "import matplotlib.pyplot as plt \n",
    "import seaborn as sns\n",
    "\n",
    "\n",
    "# Create a DataFrame from csv file\n",
    "df = pd.read_csv(csv_filepath)\n",
    "\n",
    "# Create a count plot with \"Spiders\" on the x-axis\n",
    "sns.countplot( x = \"Spiders\", data = df)\n",
    "\n",
    "# Display the plot\n",
    "plt.show()"
   ]
  },
  {
   "cell_type": "code",
   "execution_count": null,
   "metadata": {},
   "outputs": [],
   "source": [
    "#Adding a third variable with hue\n",
    "import pandas as pd\n",
    "import seaborn as sns\n",
    "\n",
    "tips = sns.load_dataset(\"tips\")\n",
    "\n",
    "hue_color = {\"Yes\":\"Black\", \"No\":\"Red\"} #bisa pake hex code juga\n",
    "\n",
    "sns.scatterplot(x = \"total_bill\", y = \"tip\", data = tips, hue = \"smoker\", hue_order = [\"Yes\", \"No\"], palette = hue_color )\n",
    "plt.show()"
   ]
  },
  {
   "cell_type": "code",
   "execution_count": null,
   "metadata": {},
   "outputs": [],
   "source": [
    "#Latihan 1\n",
    "# Import Matplotlib and Seaborn\n",
    "import matplotlib.pyplot as plt\n",
    "import seaborn as sns\n",
    "\n",
    "# Change the legend order in the scatter plot\n",
    "sns.scatterplot(x=\"absences\", y=\"G3\", \n",
    "                data=student_data, \n",
    "                hue=\"location\", hue_order = [\"Rural\", \"Urban\"])\n",
    "\n",
    "# Show plot\n",
    "plt.show()"
   ]
  },
  {
   "cell_type": "code",
   "execution_count": null,
   "metadata": {},
   "outputs": [],
   "source": [
    "#Latihan 1\n",
    "# Import Matplotlib and Seaborn\n",
    "import matplotlib.pyplot as plt\n",
    "import seaborn as sns\n",
    "\n",
    "# Create a dictionary mapping subgroup values to colors\n",
    "palette_colors = {\"Rural\": \"green\", \"Urban\": \"blue\"}\n",
    "\n",
    "# Create a count plot of school with location subgroups\n",
    "sns.countplot(x = \"school\", data = student_data, hue = \"location\", palette = palette_colors)\n",
    "\n",
    "\n",
    "\n",
    "# Display plot\n",
    "plt.show()"
   ]
  }
 ],
 "metadata": {
  "kernelspec": {
   "display_name": "Python 3",
   "language": "python",
   "name": "python3"
  },
  "language_info": {
   "codemirror_mode": {
    "name": "ipython",
    "version": 3
   },
   "file_extension": ".py",
   "mimetype": "text/x-python",
   "name": "python",
   "nbconvert_exporter": "python",
   "pygments_lexer": "ipython3",
   "version": "3.8.5"
  }
 },
 "nbformat": 4,
 "nbformat_minor": 4
}
