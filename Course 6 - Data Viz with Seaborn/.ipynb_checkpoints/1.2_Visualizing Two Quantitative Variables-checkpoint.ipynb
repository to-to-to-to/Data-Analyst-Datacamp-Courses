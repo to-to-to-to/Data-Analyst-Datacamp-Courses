{
 "cells": [
  {
   "cell_type": "code",
   "execution_count": null,
   "metadata": {},
   "outputs": [],
   "source": [
    "#Introduction to relational plots and subplots\n",
    "import pandas as pd\n",
    "import matplotlib.pyplot as plt \n",
    "import seaborn as sns\n",
    "\n",
    "sns.relplot(x = \"total_bill\", y = \"tip\", data = tips, kind = \"scatter\", col = \"smoker\")#relational plot\n",
    "plt.show()\n",
    "\n",
    "sns.relplot(x = \"total_bill\", y = \"tip\", data = tips, kind = \"scatter\", col = \"day\", col_wrap = 2)#relational plot"
   ]
  },
  {
   "cell_type": "code",
   "execution_count": null,
   "metadata": {},
   "outputs": [],
   "source": [
    "#Latihan 1\n",
    "# Change this scatter plot to arrange the plots in rows instead of columns\n",
    "sns.relplot(x=\"absences\", y=\"G3\", \n",
    "            data=student_data,\n",
    "            kind=\"scatter\", \n",
    "            row=\"study_time\")\n",
    "\n",
    "# Show plot\n",
    "plt.show()"
   ]
  },
  {
   "cell_type": "code",
   "execution_count": null,
   "metadata": {},
   "outputs": [],
   "source": [
    "#Latihan 2\n",
    "# Adjust further to add subplots based on family support\n",
    "sns.relplot(x=\"G1\", y=\"G3\", \n",
    "            data=student_data,\n",
    "            kind=\"scatter\", \n",
    "            col=\"schoolsup\",\n",
    "            col_order=[\"yes\", \"no\"], row = \"famsup\", row_order = [\"yes\", \"no\"])\n",
    "\n",
    "# Show plot\n",
    "plt.show()"
   ]
  },
  {
   "cell_type": "code",
   "execution_count": null,
   "metadata": {},
   "outputs": [],
   "source": [
    "#Customizing scatter plots\n",
    "\n",
    "sns.relplot(x = \"total_bill\", y = \"tip\", data = tips, kind = \"scatter\", size = \"size\",\n",
    "            hue = \"size\")#size buat nunjukin ukurannya\n",
    "plt.show()\n",
    "\n",
    "sns.relplot(x = \"total_bill\", y = \"tip\", data = tips, kind = \"scatter\", hue = \"smoker\",\n",
    "            style = \"smoker\")#style nanti plot nya beda bentuk\n",
    "plt.show()\n",
    "\n",
    "sns.relplot(x = \"total_bill\", y = \"tip\", data = tips, kind = \"scatter\", alpha = 0.4) #aplha buat transparan\n",
    "plt.show()\n"
   ]
  },
  {
   "cell_type": "code",
   "execution_count": null,
   "metadata": {},
   "outputs": [],
   "source": [
    "#Latihan 1\n",
    "# Import Matplotlib and Seaborn\n",
    "import matplotlib.pyplot as plt\n",
    "import seaborn as sns\n",
    "\n",
    "# Create scatter plot of horsepower vs. mpg\n",
    "sns.relplot(x=\"horsepower\", y=\"mpg\", \n",
    "            data=mpg, kind=\"scatter\", hue = \"cylinders\", \n",
    "            size=\"cylinders\")\n",
    "\n",
    "# Show plot\n",
    "plt.show()"
   ]
  },
  {
   "cell_type": "code",
   "execution_count": null,
   "metadata": {},
   "outputs": [],
   "source": [
    "#Latihan 2\n",
    "# Import Matplotlib and Seaborn\n",
    "import matplotlib.pyplot as plt\n",
    "import seaborn as sns\n",
    "\n",
    "# Create a scatter plot of acceleration vs. mpg\n",
    "sns.relplot(x = \"acceleration\", y = \"mpg\", data = mpg,kind = \"scatter\", hue= \"origin\", style = \"origin\")\n",
    "\n",
    "# Show plot\n",
    "plt.show()"
   ]
  },
  {
   "cell_type": "code",
   "execution_count": null,
   "metadata": {},
   "outputs": [],
   "source": [
    "#Introduction to line plots\n",
    "import matplotlib.pyplot as plt\n",
    "import seaborn as sns\n",
    "\n",
    "sns.relplot(x = \"hour\", y = \"NO_2_mean\", data = air_df_mean, kind = \"line\", style = \"location\", hue = \"location\",\n",
    "           markers = True, dashes = False) #dashes biar garis ga putus2\n",
    "plt.show()\n",
    "\n",
    "\n",
    "sns.relplot(x = \"hour\", y = \"NO_2_mean\", data = air_df_mean, kind = \"line\", ci = \"sd\") \n",
    "#ci untuk menunjukkan parameter standar deviasi"
   ]
  },
  {
   "cell_type": "code",
   "execution_count": null,
   "metadata": {},
   "outputs": [],
   "source": [
    "#Latihan 1\n",
    "# Import Matplotlib and Seaborn\n",
    "import matplotlib.pyplot as plt\n",
    "import seaborn as sns\n",
    "\n",
    "# Create line plot\n",
    "sns.relplot(x = \"model_year\", y = \"mpg\", data = mpg, kind = \"line\")\n",
    "\n",
    "\n",
    "# Show plot\n",
    "plt.show()"
   ]
  },
  {
   "cell_type": "code",
   "execution_count": null,
   "metadata": {},
   "outputs": [],
   "source": [
    "#Latihan 2\n",
    "# Make the shaded area show the standard deviation\n",
    "sns.relplot(x=\"model_year\", y=\"mpg\",\n",
    "            data=mpg, kind=\"line\", ci = \"sd\")\n",
    "\n",
    "# Show plot\n",
    "plt.show()"
   ]
  },
  {
   "cell_type": "code",
   "execution_count": null,
   "metadata": {},
   "outputs": [],
   "source": [
    "#Latihan 3\n",
    "# Import Matplotlib and Seaborn\n",
    "import matplotlib.pyplot as plt\n",
    "import seaborn as sns\n",
    "\n",
    "# Add markers and make each line have the same style\n",
    "sns.relplot(x=\"model_year\", y=\"horsepower\", \n",
    "            data=mpg, kind=\"line\", \n",
    "            ci=None, style=\"origin\", \n",
    "            hue=\"origin\", markers = True, dashes = False)\n",
    "\n",
    "# Show plot\n",
    "plt.show()"
   ]
  }
 ],
 "metadata": {
  "kernelspec": {
   "display_name": "Python 3",
   "language": "python",
   "name": "python3"
  },
  "language_info": {
   "codemirror_mode": {
    "name": "ipython",
    "version": 3
   },
   "file_extension": ".py",
   "mimetype": "text/x-python",
   "name": "python",
   "nbconvert_exporter": "python",
   "pygments_lexer": "ipython3",
   "version": "3.8.5"
  }
 },
 "nbformat": 4,
 "nbformat_minor": 4
}
