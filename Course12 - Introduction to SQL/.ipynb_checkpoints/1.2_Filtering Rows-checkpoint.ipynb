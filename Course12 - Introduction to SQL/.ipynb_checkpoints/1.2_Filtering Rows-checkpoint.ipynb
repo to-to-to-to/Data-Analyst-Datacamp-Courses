{
 "cells": [
  {
   "cell_type": "code",
   "execution_count": null,
   "metadata": {},
   "outputs": [],
   "source": [
    "#Latihan 1\n",
    "SELECT *\n",
    "FROM films\n",
    "WHERE release_year = 2016;\n",
    "\n",
    "SELECT COUNT (*)\n",
    "FROM films\n",
    "WHERE release_year < 2000;\n",
    "\n",
    "SELECT title, release_year\n",
    "FROM films\n",
    "WHERE release_year > 2000;"
   ]
  },
  {
   "cell_type": "code",
   "execution_count": null,
   "metadata": {},
   "outputs": [],
   "source": [
    "#Latihan 2\n",
    "SELECT *\n",
    "FROM films\n",
    "WHERE language = 'French';\n",
    "\n",
    "SELECT name\n",
    "FROM people\n",
    "WHERE birthdate = '1974-11-11';\n",
    "\n",
    "SELECT COUNT (*)\n",
    "FROM films\n",
    "WHERE language = 'Hindi'\n",
    "\n",
    "SELECT *\n",
    "FROM films\n",
    "WHERE certification = 'R'"
   ]
  },
  {
   "cell_type": "code",
   "execution_count": null,
   "metadata": {},
   "outputs": [],
   "source": [
    "#Latihan 3\n",
    "SELECT title, release_year\n",
    "FROM films\n",
    "WHERE language = 'Spanish'\n",
    "AND release_year < 2000;\n",
    "\n",
    "SELECT *\n",
    "FROM films\n",
    "WHERE language = 'Spanish'\n",
    "AND release_year > 2000;\n",
    "\n",
    "SELECT *\n",
    "FROM films\n",
    "WHERE language = 'Spanish'\n",
    "AND release_year > 2000 \n",
    "AND release_year < 2010;"
   ]
  },
  {
   "cell_type": "code",
   "execution_count": null,
   "metadata": {},
   "outputs": [],
   "source": [
    "#Latihan 4\n",
    "SELECT title, release_year\n",
    "FROM films\n",
    "WHERE release_year >= 1990\n",
    "AND release_year < 2000\n",
    "\n",
    "SELECT title, release_year\n",
    "FROM films\n",
    "WHERE (release_year >= 1990 AND release_year < 2000)\n",
    "AND (language = 'French' or language = 'Spanish')\n",
    "\n",
    "SELECT title, release_year\n",
    "FROM films\n",
    "WHERE (release_year >= 1990 AND release_year < 2000)\n",
    "AND (language = 'French' OR language = 'Spanish')\n",
    "AND gross > 2000000"
   ]
  },
  {
   "cell_type": "code",
   "execution_count": null,
   "metadata": {},
   "outputs": [],
   "source": [
    "#Latihan 5\n",
    "SELECT title, release_year\n",
    "FROM films\n",
    "WHERE release_year BETWEEN 1990 AND 2000;\n",
    "\n",
    "SELECT title, release_year\n",
    "FROM films\n",
    "WHERE release_year BETWEEN 1990 AND 2000\n",
    "AND budget > 100000000;\n",
    "\n",
    "SELECT title, release_year\n",
    "FROM films\n",
    "WHERE release_year BETWEEN 1990 AND 2000\n",
    "AND budget > 100000000\n",
    "AND language = 'Spanish'\n",
    "\n",
    "SELECT title, release_year\n",
    "FROM films\n",
    "WHERE release_year BETWEEN 1990 AND 2000\n",
    "AND budget > 100000000\n",
    "AND (language = 'Spanish' OR language = 'French')"
   ]
  },
  {
   "cell_type": "code",
   "execution_count": null,
   "metadata": {},
   "outputs": [],
   "source": [
    "#Latihan 6\n",
    "SELECT title, release_year\n",
    "FROM films\n",
    "WHERE release_year IN (1990, 2000)\n",
    "AND duration > 120;\n",
    "\n",
    "SELECT title, language\n",
    "FROM films\n",
    "WHERE language IN ('English', 'Spanish', 'French');\n",
    "\n",
    "SELECT title, certification\n",
    "FROM films\n",
    "WHERE certification IN ('NC-17', 'R');"
   ]
  },
  {
   "cell_type": "code",
   "execution_count": null,
   "metadata": {},
   "outputs": [],
   "source": [
    "#latihan 7\n",
    "SELECT name\n",
    "FROM people\n",
    "WHERE deathdate is NULL;\n",
    "\n",
    "SELECT title\n",
    "FROM films\n",
    "WHERE budget is NULL;\n",
    "\n",
    "SELECT COUNT (*)\n",
    "FROM films\n",
    "WHERE language is NULL;"
   ]
  },
  {
   "cell_type": "code",
   "execution_count": null,
   "metadata": {},
   "outputs": [],
   "source": [
    "#Latihan 8\n",
    "SELECT name\n",
    "FROM people\n",
    "WHERE name LIKE 'B%';\n",
    "\n",
    "SELECT name\n",
    "FROM people\n",
    "WHERE name LIKE '_r%';\n",
    "\n",
    "SELECT name\n",
    "FROM people\n",
    "WHERE name NOT LIKE 'A%';"
   ]
  }
 ],
 "metadata": {
  "kernelspec": {
   "display_name": "Python 3",
   "language": "python",
   "name": "python3"
  },
  "language_info": {
   "codemirror_mode": {
    "name": "ipython",
    "version": 3
   },
   "file_extension": ".py",
   "mimetype": "text/x-python",
   "name": "python",
   "nbconvert_exporter": "python",
   "pygments_lexer": "ipython3",
   "version": "3.8.5"
  }
 },
 "nbformat": 4,
 "nbformat_minor": 4
}
