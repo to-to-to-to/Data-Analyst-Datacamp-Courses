{
 "cells": [
  {
   "cell_type": "code",
   "execution_count": null,
   "metadata": {},
   "outputs": [],
   "source": [
    "#Latihan 1\n",
    "SELECT name\n",
    "FROM people\n",
    "ORDER BY name;\n",
    "\n",
    "SELECT name\n",
    "FROM people\n",
    "ORDER BY birthdate;\n",
    "\n",
    "SELECT name, birthdate\n",
    "FROM people\n",
    "ORDER BY birthdate;"
   ]
  },
  {
   "cell_type": "code",
   "execution_count": null,
   "metadata": {},
   "outputs": [],
   "source": [
    "#Latihan 2\n",
    "SELECT title\n",
    "FROM films\n",
    "WHERE release_year = 2000\n",
    "OR release_year = 2012\n",
    "ORDER BY release_year;\n",
    "\n",
    "SELECT *\n",
    "FROM films\n",
    "WHERE release_year <> 2015\n",
    "ORDER BY duration;\n",
    "\n",
    "SELECT title, gross\n",
    "FROM films\n",
    "WHERE title LIKE 'M%'\n",
    "ORDER BY title;"
   ]
  },
  {
   "cell_type": "code",
   "execution_count": null,
   "metadata": {},
   "outputs": [],
   "source": [
    "#Latihan 3\n",
    "SELECT film_id, imdb_score\n",
    "FROM reviews\n",
    "ORDER BY imdb_score DESC;\n",
    "\n",
    "SELECT title\n",
    "FROM films\n",
    "ORDER BY title DESC;\n",
    "\n",
    "SELECT title, duration\n",
    "FROM films\n",
    "ORDER BY duration DESC;"
   ]
  },
  {
   "cell_type": "code",
   "execution_count": null,
   "metadata": {},
   "outputs": [],
   "source": [
    "#Latihan 4\n",
    "SELECT birthdate, name\n",
    "FROM people\n",
    "ORDER BY birthdate, name;\n",
    "\n",
    "SELECT release_year, duration, title\n",
    "FROM films\n",
    "ORDER BY release_year, duration;\n",
    "\n",
    "SELECT certification, release_year, title\n",
    "FROM films\n",
    "ORDER BY certification, release_year;\n",
    "\n",
    "SELECT name, birthdate\n",
    "FROM people\n",
    "ORDER BY name, birthdate;"
   ]
  },
  {
   "cell_type": "code",
   "execution_count": null,
   "metadata": {},
   "outputs": [],
   "source": [
    "#Latihan 5\n",
    "SELECT release_year, COUNT(*)\n",
    "FROM films\n",
    "GROUP BY release_year;\n",
    "\n",
    "SELECT release_year, AVG(duration)\n",
    "FROM films\n",
    "GROUP BY release_year;\n",
    "\n",
    "SELECT release_year, MAX(budget)\n",
    "FROM films\n",
    "GROUP BY release_year;\n",
    "\n",
    "SELECT imdb_score, COUNT(*)\n",
    "FROM reviews\n",
    "GROUP BY imdb_score;"
   ]
  },
  {
   "cell_type": "code",
   "execution_count": null,
   "metadata": {},
   "outputs": [],
   "source": [
    "#Latihan 6\n",
    "SELECT release_year, MIN(gross)\n",
    "FROM films\n",
    "GROUP BY release_year;\n",
    "\n",
    "SELECT language, SUM(gross)\n",
    "FROM films\n",
    "GROUP BY language;\n",
    "\n",
    "SELECT country, SUM(budget)\n",
    "FROM films\n",
    "GROUP BY country;\n",
    "\n",
    "SELECT release_year, country, MAX(budget)\n",
    "FROM films\n",
    "GROUP BY release_year, country\n",
    "ORDER BY release_year, country;\n",
    "\n",
    "SELECT country, release_year, MIN(gross)\n",
    "FROM films\n",
    "GROUP BY release_year, country\n",
    "ORDER BY country, release_year;"
   ]
  },
  {
   "cell_type": "code",
   "execution_count": null,
   "metadata": {},
   "outputs": [],
   "source": [
    "#Latihan 7\n",
    "SELECT release_year, AVG(budget) AS avg_budget, AVG(gross) AS avg_gross\n",
    "FROM films\n",
    "WHERE release_year > 1990\n",
    "GROUP BY release_year\n",
    "HAVING AVG(budget) > 60000000\n",
    "ORDER BY AVG(gross) DESC;"
   ]
  },
  {
   "cell_type": "code",
   "execution_count": null,
   "metadata": {},
   "outputs": [],
   "source": [
    "#Latihan 8\n",
    "-- select country, average budget, \n",
    "--     and average gross\n",
    "SELECT country, AVG(budget) AS avg_budget, AVG(gross) AS avg_gross\n",
    "-- from the films table\n",
    "FROM films\n",
    "-- group by country \n",
    "GROUP BY country\n",
    "-- where the country has more than 10 titles\n",
    "HAVING COUNT(title) > 10\n",
    "-- order by country\n",
    "ORDER BY country\n",
    "-- limit to only show 5 results\n",
    "LIMIT 5"
   ]
  },
  {
   "cell_type": "code",
   "execution_count": null,
   "metadata": {},
   "outputs": [],
   "source": [
    "#Latihan 9\n",
    "SELECT title, imdb_score\n",
    "FROM films\n",
    "JOIN reviews\n",
    "ON films.id = reviews.film_id\n",
    "WHERE title = 'To Kill a Mockingbird';"
   ]
  }
 ],
 "metadata": {
  "kernelspec": {
   "display_name": "Python 3",
   "language": "python",
   "name": "python3"
  },
  "language_info": {
   "codemirror_mode": {
    "name": "ipython",
    "version": 3
   },
   "file_extension": ".py",
   "mimetype": "text/x-python",
   "name": "python",
   "nbconvert_exporter": "python",
   "pygments_lexer": "ipython3",
   "version": "3.8.5"
  }
 },
 "nbformat": 4,
 "nbformat_minor": 4
}
