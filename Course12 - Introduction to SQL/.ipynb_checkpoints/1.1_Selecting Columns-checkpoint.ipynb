{
 "cells": [
  {
   "cell_type": "code",
   "execution_count": null,
   "metadata": {},
   "outputs": [],
   "source": [
    "#Welcome to the course\n",
    "\n",
    "#Latihan 1\n",
    "-- Try running me!\n",
    "SELECT 'DataCamp <3 SQL'\n",
    "AS result;\n",
    "\n",
    "#Latihan 2\n",
    "SELECT 'SQL is cool'\n",
    "AS result;"
   ]
  },
  {
   "cell_type": "code",
   "execution_count": null,
   "metadata": {},
   "outputs": [],
   "source": [
    "#Latihan 3\n",
    "SELECT title \n",
    "FROM films;\n",
    "\n",
    "SELECT release_year\n",
    "FROM films\n",
    "\n",
    "SELECT name\n",
    "FROM people"
   ]
  },
  {
   "cell_type": "code",
   "execution_count": null,
   "metadata": {},
   "outputs": [],
   "source": [
    "#Latihan 4\n",
    "SELECT title\n",
    "FROM films;\n",
    "\n",
    "SELECT title, release_year\n",
    "FROM films;\n",
    "\n",
    "SELECT title, release_year, country\n",
    "FROM films;\n",
    "\n",
    "SELECT *\n",
    "FROM films;"
   ]
  },
  {
   "cell_type": "code",
   "execution_count": null,
   "metadata": {},
   "outputs": [],
   "source": [
    "#Latihan 5\n",
    "SELECT DISTINCT country\n",
    "FROM films;\n",
    "\n",
    "SELECT DISTINCT certification\n",
    "FROM films;\n",
    "\n",
    "SELECT DISTINCT role\n",
    "FROM roles"
   ]
  },
  {
   "cell_type": "code",
   "execution_count": null,
   "metadata": {},
   "outputs": [],
   "source": [
    "#Latihan 6\n",
    "SELECT COUNT (*)\n",
    "FROM people;\n",
    "\n",
    "SELECT COUNT(birthdate)\n",
    "FROM people;\n",
    "\n",
    "SELECT COUNT(DISTINCT birthdate)\n",
    "FROM people;\n",
    "\n",
    "SELECT COUNT(DISTINCT language)\n",
    "FROM films;\n",
    "\n",
    "SELECT COUNT(DISTINCT country)\n",
    "FROM films; "
   ]
  }
 ],
 "metadata": {
  "kernelspec": {
   "display_name": "Python 3",
   "language": "python",
   "name": "python3"
  },
  "language_info": {
   "codemirror_mode": {
    "name": "ipython",
    "version": 3
   },
   "file_extension": ".py",
   "mimetype": "text/x-python",
   "name": "python",
   "nbconvert_exporter": "python",
   "pygments_lexer": "ipython3",
   "version": "3.8.5"
  }
 },
 "nbformat": 4,
 "nbformat_minor": 4
}
