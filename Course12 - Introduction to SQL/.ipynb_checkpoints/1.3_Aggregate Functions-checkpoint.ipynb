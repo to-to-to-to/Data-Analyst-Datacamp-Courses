{
 "cells": [
  {
   "cell_type": "code",
   "execution_count": null,
   "metadata": {},
   "outputs": [],
   "source": [
    "#Latihan 1\n",
    "SELECT SUM(duration)\n",
    "FROM films;\n",
    "\n",
    "SELECT AVG(duration)\n",
    "FROM films;\n",
    "\n",
    "SELECT MIN(duration)\n",
    "FROM films;\n",
    "\n",
    "SELECT MAX(duration)\n",
    "FROM films;"
   ]
  },
  {
   "cell_type": "code",
   "execution_count": null,
   "metadata": {},
   "outputs": [],
   "source": [
    "#Latihan 2\n",
    "SELECT SUM(gross)\n",
    "FROM films;\n",
    "\n",
    "SELECT AVG(gross)\n",
    "FROM films;\n",
    "\n",
    "SELECT MIN(gross)\n",
    "FROM films;\n",
    "\n",
    "SELECT MAX(gross)\n",
    "FROM films;"
   ]
  },
  {
   "cell_type": "code",
   "execution_count": null,
   "metadata": {},
   "outputs": [],
   "source": [
    "#Latihan 3\n",
    "SELECT SUM(gross)\n",
    "FROM films\n",
    "WHERE release_year >= 2000;\n",
    "\n",
    "SELECT AVG(gross)\n",
    "FROM films\n",
    "WHERE title LIKE 'A%';\n",
    "\n",
    "SELECT MIN(gross)\n",
    "FROM films\n",
    "WHERE release_year = 1994;\n",
    "\n",
    "SELECT MAX(gross)\n",
    "FROM films\n",
    "WHERE release_year BETWEEN 2000 AND 2012;"
   ]
  },
  {
   "cell_type": "code",
   "execution_count": null,
   "metadata": {},
   "outputs": [],
   "source": [
    "#Latihan 4\n",
    "SELECT title, gross - budget AS net_profit\n",
    "FROM films;\n",
    "\n",
    "SELECT title, duration / 60.0 AS duration_hours\n",
    "FROM films;\n",
    "\n",
    "SELECT AVG(duration) / 60.0 AS avg_duration_hours\n",
    "FROM films;"
   ]
  },
  {
   "cell_type": "code",
   "execution_count": null,
   "metadata": {},
   "outputs": [],
   "source": [
    "#Latihan 5\n",
    "-- get the count(deathdate) and multiply by 100.0\n",
    "-- then divide by count(*)\n",
    "SELECT COUNT(deathdate) * 100.0 / COUNT(*) AS percentage_dead\n",
    "FROM people;\n",
    "\n",
    "SELECT MAX(release_year) - MIN(release_year) AS difference\n",
    "FROM films;\n",
    "\n",
    "SELECT (MAX(release_year) - MIN(release_year)) / 10.0 AS number_of_decades\n",
    "FROM films;"
   ]
  }
 ],
 "metadata": {
  "kernelspec": {
   "display_name": "Python 3",
   "language": "python",
   "name": "python3"
  },
  "language_info": {
   "codemirror_mode": {
    "name": "ipython",
    "version": 3
   },
   "file_extension": ".py",
   "mimetype": "text/x-python",
   "name": "python",
   "nbconvert_exporter": "python",
   "pygments_lexer": "ipython3",
   "version": "3.8.5"
  }
 },
 "nbformat": 4,
 "nbformat_minor": 4
}
