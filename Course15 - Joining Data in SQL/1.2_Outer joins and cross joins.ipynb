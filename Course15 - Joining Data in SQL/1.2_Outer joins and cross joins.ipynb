{
 "cells": [
  {
   "cell_type": "code",
   "execution_count": null,
   "metadata": {},
   "outputs": [],
   "source": [
    "#LEFT and RIGHT JOINs\n",
    "\n",
    "#Left Join\n",
    "SELECT\n",
    "p1.country, prime_minister, president\n",
    "FROM prime_ministers AS p1\n",
    "LEFTJOIN \n",
    "presidents AS p2\n",
    "ON p1.country = p2.country;\n",
    "\n",
    "#Right Join\n",
    "SELECT right_table.id AS R_id, left_table.val AS L_val, right_table.val AS R_val\n",
    "FROM \n",
    "left_table\n",
    "RIGHT JOIN right_table\n",
    "ON left_table.id = right_table.id;\n"
   ]
  },
  {
   "cell_type": "code",
   "execution_count": null,
   "metadata": {},
   "outputs": [],
   "source": [
    "#Latihan 1\n",
    "-- Select the city name (with alias), the country code,\n",
    "-- the country name (with alias), the region,\n",
    "-- and the city proper population\n",
    "SELECT c1.name AS country, code, c2.name AS city,\n",
    "       region, city_proper_pop\n",
    "-- From left table (with alias)\n",
    "FROM cities AS c2\n",
    "  -- Join to right table (with alias)\n",
    "  INNER JOIN countries AS c1\n",
    "    -- Match on country code\n",
    "    ON c1.code = c2.country_code\n",
    "-- Order by descending country code\n",
    "ORDER BY code DESC;\n",
    "\n",
    "SELECT c1.name AS city, code, c2.name AS country,\n",
    "       region, city_proper_pop\n",
    "FROM cities AS c1\n",
    "  -- 1. Join right table (with alias)\n",
    "  LEFT JOIN countries AS c2\n",
    "    -- 2. Match on country code\n",
    "    ON c1.country_code = c2.code\n",
    "-- 3. Order by descending country code\n",
    "ORDER BY code DESC;"
   ]
  },
  {
   "cell_type": "code",
   "execution_count": null,
   "metadata": {},
   "outputs": [],
   "source": [
    "#Latihan 2\n",
    "SELECT c.name AS country, local_name, l.name AS language, percent\n",
    "-- 1. From left table (alias as c)\n",
    "FROM countries AS c\n",
    "  -- 2. Join to right table (alias as l)\n",
    "  INNER JOIN languages AS l\n",
    "    -- 3. Match on fields\n",
    "    ON c.code = l.code\n",
    "-- 4. Order by descending country\n",
    "ORDER BY country DESC;\n",
    "\n",
    "SELECT c.name AS country, local_name, l.name AS language, percent\n",
    "-- 1. From left table (alias as c)\n",
    "FROM countries AS c\n",
    "  -- 2. Join to right table (alias as l)\n",
    "  LEFT JOIN languages AS l\n",
    "    -- 3. Match on fields\n",
    "    ON c.code = l.code\n",
    "-- 4. Order by descending country\n",
    "ORDER BY country DESC;"
   ]
  },
  {
   "cell_type": "code",
   "execution_count": null,
   "metadata": {},
   "outputs": [],
   "source": [
    "#Latihan 3\n",
    "-- 5. Select name, region, and gdp_percapita\n",
    "SELECT name, region, gdp_percapita\n",
    "-- 1. From countries (alias as c)\n",
    "FROM countries AS c\n",
    "  -- 2. Left join with economies (alias as e)\n",
    "  LEFT JOIN economies AS e\n",
    "    -- 3. Match on code fields\n",
    "    ON c.code = e.code\n",
    "-- 4. Focus on 2010\n",
    "WHERE year = 2010;\n",
    "\n",
    "-- Select fields\n",
    "SELECT region, AVG(gdp_percapita) AS avg_gdp\n",
    "-- From countries (alias as c)\n",
    "FROM countries AS c\n",
    "  -- Left join with economies (alias as e)\n",
    "  LEFT JOIN economies AS e\n",
    "    -- Match on code fields\n",
    "    ON c.code = e.code\n",
    "-- Focus on 2010\n",
    "WHERE year = 2010\n",
    "-- Group by region\n",
    "GROUP BY region;\n",
    "\n",
    "-- Select fields\n",
    "SELECT region, AVG(gdp_percapita) AS avg_gdp\n",
    "-- From countries (alias as c)\n",
    "FROM countries AS c\n",
    "  -- Left join with economies (alias as e)\n",
    "  LEFT JOIN economies AS e\n",
    "    -- Match on code fields\n",
    "    ON c.code = e.code\n",
    "-- Focus on 2010\n",
    "WHERE year = 2010\n",
    "-- Group by region\n",
    "GROUP BY region\n",
    "-- Order by descending avg_gdp\n",
    "ORDER BY avg_gdp DESC;"
   ]
  },
  {
   "cell_type": "code",
   "execution_count": null,
   "metadata": {},
   "outputs": [],
   "source": [
    "#Latihan 3\n",
    "SELECT cities.name AS city, urbanarea_pop, countries.name AS country,\n",
    "       indep_year, languages.name AS language, percent\n",
    "FROM languages\n",
    "  RIGHT JOIN countries\n",
    "    ON languages.code = countries.code\n",
    "  RIGHT JOIN cities\n",
    "    ON countries.code = cities.country_code\n",
    "ORDER BY city, language;"
   ]
  },
  {
   "cell_type": "code",
   "execution_count": null,
   "metadata": {},
   "outputs": [],
   "source": [
    "#FULL JOINs\n",
    "SELECT p1.country AS pm_co, p2.country AS pres_co,prime_minister, president\n",
    "FROM \n",
    "prime_ministers AS p1\n",
    "FULLJOIN \n",
    "presidents AS p2\n",
    "ON p1.country = p2.country;"
   ]
  },
  {
   "cell_type": "code",
   "execution_count": null,
   "metadata": {},
   "outputs": [],
   "source": [
    "#Latihan 1\n",
    "SELECT name AS country, code, region, basic_unit\n",
    "-- 3. From countries\n",
    "FROM countries\n",
    "  -- 4. Join to currencies\n",
    "  FULL JOIN currencies\n",
    "    -- 5. Match on code\n",
    "    USING (code)\n",
    "-- 1. Where region is North America or null\n",
    "WHERE region = 'North America' OR region IS NULL\n",
    "-- 2. Order by region\n",
    "ORDER BY region;\n"
   ]
  },
  {
   "cell_type": "code",
   "execution_count": null,
   "metadata": {},
   "outputs": [],
   "source": [
    "#Latihan 2\n",
    "SELECT countries.name, code, languages.name AS language\n",
    "-- 3. From languages\n",
    "FROM languages\n",
    "  -- 4. Join to countries\n",
    "  FULL JOIN countries\n",
    "    -- 5. Match on code\n",
    "    USING (code)\n",
    "-- 1. Where countries.name starts with V or is null\n",
    "WHERE countries.name LIKE 'V%' OR countries.name IS NULL\n",
    "-- 2. Order by ascending countries.name\n",
    "ORDER BY countries.name ASC;"
   ]
  },
  {
   "cell_type": "code",
   "execution_count": null,
   "metadata": {},
   "outputs": [],
   "source": [
    "#Latihan 3\n",
    "-- 7. Select fields (with aliases)\n",
    "SELECT c1.name AS country, region, l.name AS language,\n",
    "       basic_unit, frac_unit\n",
    "-- 1. From countries (alias as c1)\n",
    "FROM countries AS c1\n",
    "  -- 2. Join with languages (alias as l)\n",
    "  FULL JOIN languages AS l\n",
    "    -- 3. Match on code\n",
    "    USING (code)\n",
    "  -- 4. Join with currencies (alias as c2)\n",
    "  FULL JOIN currencies AS c2\n",
    "    -- 5. Match on code\n",
    "    USING (code)\n",
    "-- 6. Where region like Melanesia and Micronesia\n",
    "WHERE region LIKE 'M%esia';"
   ]
  },
  {
   "cell_type": "code",
   "execution_count": null,
   "metadata": {},
   "outputs": [],
   "source": [
    "#CROSSing the rubicon\n",
    "SELECT prime_minister, president\n",
    "FROM prime_ministers AS p1\n",
    "CROSSJOIN presidents AS p2\n",
    "WHERE p1.continent IN ('North America', 'Oceania');"
   ]
  },
  {
   "cell_type": "code",
   "execution_count": null,
   "metadata": {},
   "outputs": [],
   "source": [
    "#Latihan 1\n",
    "-- 4. Select fields\n",
    "SELECT c.name AS city, l.name AS language\n",
    "-- 1. From cities (alias as c)\n",
    "FROM cities AS c        \n",
    "  -- 2. Join to languages (alias as l)\n",
    "  CROSS JOIN languages AS l\n",
    "-- 3. Where c.name like Hyderabad\n",
    "WHERE c.name LIKE 'Hyder%';"
   ]
  },
  {
   "cell_type": "code",
   "execution_count": null,
   "metadata": {},
   "outputs": [],
   "source": [
    "#Latihan 2\n",
    "-- Select fields\n",
    "SELECT c.name AS country, region, life_expectancy AS life_exp\n",
    "-- From countries (alias as c)\n",
    "FROM countries as c\n",
    "  -- Join to populations (alias as p)\n",
    "  LEFT JOIN populations as p\n",
    "    -- Match on country code\n",
    "   ON c.code = p.country_code\n",
    "-- Focus on 2010\n",
    "WHERE year = 2010\n",
    "-- Order by life_exp\n",
    "ORDER BY life_exp\n",
    "-- Limit to 5 records\n",
    "LIMIT(5);"
   ]
  }
 ],
 "metadata": {
  "kernelspec": {
   "display_name": "Python 3",
   "language": "python",
   "name": "python3"
  },
  "language_info": {
   "codemirror_mode": {
    "name": "ipython",
    "version": 3
   },
   "file_extension": ".py",
   "mimetype": "text/x-python",
   "name": "python",
   "nbconvert_exporter": "python",
   "pygments_lexer": "ipython3",
   "version": "3.8.5"
  }
 },
 "nbformat": 4,
 "nbformat_minor": 4
}
