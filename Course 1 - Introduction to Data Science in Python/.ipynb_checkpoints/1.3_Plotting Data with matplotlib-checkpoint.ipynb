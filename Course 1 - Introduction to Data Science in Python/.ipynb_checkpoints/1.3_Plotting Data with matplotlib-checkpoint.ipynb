{
 "cells": [
  {
   "cell_type": "code",
   "execution_count": null,
   "metadata": {},
   "outputs": [],
   "source": [
    "#Creating line plots\n",
    "import matplotlib.pyplot as plt\n",
    "\n",
    "plt.plot(x_values, y_values)\n",
    "plt.show()"
   ]
  },
  {
   "cell_type": "code",
   "execution_count": null,
   "metadata": {},
   "outputs": [],
   "source": [
    "#Latihan 1\n",
    "# From matplotlib, import pyplot under the alias plt\n",
    "from matplotlib import pyplot as plt\n",
    "\n",
    "# Plot Officer Deshaun's hours_worked vs. day_of_week\n",
    "plt.plot(deshaun.day_of_week, deshaun.hours_worked)\n",
    "\n",
    "# Display Deshaun's plot\n",
    "plt.show()"
   ]
  },
  {
   "cell_type": "code",
   "execution_count": null,
   "metadata": {},
   "outputs": [],
   "source": [
    "#Latihan 2\n",
    "# Plot Officer Deshaun's hours_worked vs. day_of_week\n",
    "plt.plot(deshaun.day_of_week, deshaun.hours_worked)\n",
    "\n",
    "# Plot Officer Aditya's hours_worked vs. day_of_week\n",
    "plt.plot(aditya.day_of_week, aditya.hours_worked)\n",
    "\n",
    "# Plot Officer Mengfei's hours_worked vs. day_of_week\n",
    "plt.plot(mengfei.day_of_week, mengfei.hours_worked)\n",
    "\n",
    "# Display all three line plots\n",
    "plt.show()"
   ]
  },
  {
   "cell_type": "code",
   "execution_count": null,
   "metadata": {},
   "outputs": [],
   "source": [
    "#Adding text to plots\n",
    "plt.xlabel(\"Letter\")\n",
    "ply.ylabel(\"Frequency\")\n",
    "plt.title(\"Ransome Note Letters\")\n",
    "\n",
    "#Adding Legend\n",
    "plt.plot(aditya.day_of_week, aditya.hours_worked, label = \"Aditya\")\n",
    "plt.plot(mengfei.day_of_week, mengfei.hours_worked, label = \"Mengfei\")\n",
    "plt.legend()"
   ]
  },
  {
   "cell_type": "code",
   "execution_count": null,
   "metadata": {},
   "outputs": [],
   "source": [
    "#Latihan 1\n",
    "# Officer Deshaun\n",
    "plt.plot(deshaun.day_of_week, deshaun.hours_worked, label='Deshaun')\n",
    "\n",
    "# Add a label to Aditya's plot\n",
    "plt.plot(aditya.day_of_week, aditya.hours_worked, label='Aditya')\n",
    "\n",
    "# Add a label to Mengfei's plot\n",
    "plt.plot(mengfei.day_of_week, mengfei.hours_worked, label='Mengfei')\n",
    "\n",
    "# Add a command to make the legend display\n",
    "plt.legend()\n",
    "\n",
    "# Display plot\n",
    "plt.show()"
   ]
  },
  {
   "cell_type": "code",
   "execution_count": null,
   "metadata": {},
   "outputs": [],
   "source": [
    "#Latihan 2\n",
    "# Lines\n",
    "plt.plot(deshaun.day_of_week, deshaun.hours_worked, label='Deshaun')\n",
    "plt.plot(aditya.day_of_week, aditya.hours_worked, label='Aditya')\n",
    "plt.plot(mengfei.day_of_week, mengfei.hours_worked, label='Mengfei')\n",
    "\n",
    "# Add a title\n",
    "plt.title(\"Deshaun\")\n",
    "\n",
    "# Add y-axis label\n",
    "plt.ylabel(\"this is y label\")\n",
    "\n",
    "# Legend\n",
    "plt.legend()\n",
    "# Display plot\n",
    "plt.show()"
   ]
  },
  {
   "cell_type": "code",
   "execution_count": null,
   "metadata": {},
   "outputs": [],
   "source": [
    "#Latihan 3\n",
    "# Create plot\n",
    "plt.plot(six_months.month, six_months.hours_worked)\n",
    "\n",
    "# Add annotation \"Missing June data\" at (2.5, 80)\n",
    "plt.text(2.5, 80, \"Missing June data\")\n",
    "\n",
    "# Display graph\n",
    "plt.show()"
   ]
  },
  {
   "cell_type": "code",
   "execution_count": null,
   "metadata": {},
   "outputs": [],
   "source": [
    "#Styling graphs\n",
    "# Change the color of Phoenix to `\"DarkCyan\"`\n",
    "plt.plot(data[\"Year\"], data[\"Phoenix Police Dept\"], label=\"Phoenix\", color = \"DarkCyan\")\n",
    "\n",
    "# Make the Los Angeles line dotted\n",
    "plt.plot(data[\"Year\"], data[\"Los Angeles Police Dept\"], label=\"Los Angeles\", linestyle = ':')\n",
    "\n",
    "# Add square markers to Philedelphia\n",
    "plt.plot(data[\"Year\"], data[\"Philadelphia Police Dept\"], label=\"Philadelphia\", marker = 's')\n",
    "\n",
    "# Add a legend\n",
    "plt.legend()\n",
    "\n",
    "# Display the plot\n",
    "plt.show()"
   ]
  },
  {
   "cell_type": "code",
   "execution_count": null,
   "metadata": {},
   "outputs": [],
   "source": [
    "#Latihan 1\n",
    "# Choose any of the styles\n",
    "print(plt.style.available)\n",
    "plt.style.use('seaborn-pastel')\n",
    "\n",
    "# Plot lines\n",
    "plt.plot(data[\"Year\"], data[\"Phoenix Police Dept\"], label=\"Phoenix\")\n",
    "plt.plot(data[\"Year\"], data[\"Los Angeles Police Dept\"], label=\"Los Angeles\")\n",
    "plt.plot(data[\"Year\"], data[\"Philadelphia Police Dept\"], label=\"Philadelphia\")\n",
    "\n",
    "# Add a legend\n",
    "plt.legend()\n",
    "\n",
    "# Display the plot\n",
    "plt.show()"
   ]
  },
  {
   "cell_type": "code",
   "execution_count": null,
   "metadata": {},
   "outputs": [],
   "source": [
    "#Latihan 2\n",
    "# Plot each line\n",
    "plt.plot(ransom.letter, ransom.frequency,\n",
    "         label='Ransom', linestyle=':', color='gray')\n",
    "plt.plot(suspect1.letter, suspect1.frequency, label='Fred Frequentist')\n",
    "plt.plot(suspect2.letter, suspect2.frequency, label='Gertrude Cox')\n",
    "\n",
    "# Add x- and y-labels\n",
    "plt.xlabel('Letter')\n",
    "plt.ylabel('Frequency')\n",
    "\n",
    "# Add a legend\n",
    "plt.legend()\n",
    "\n",
    "# Display plot\n",
    "plt.show()"
   ]
  }
 ],
 "metadata": {
  "kernelspec": {
   "display_name": "Python 3",
   "language": "python",
   "name": "python3"
  },
  "language_info": {
   "codemirror_mode": {
    "name": "ipython",
    "version": 3
   },
   "file_extension": ".py",
   "mimetype": "text/x-python",
   "name": "python",
   "nbconvert_exporter": "python",
   "pygments_lexer": "ipython3",
   "version": "3.8.5"
  }
 },
 "nbformat": 4,
 "nbformat_minor": 4
}
