{
 "cells": [
  {
   "cell_type": "code",
   "execution_count": null,
   "metadata": {},
   "outputs": [],
   "source": [
    "#Dive into Python\n",
    "import pandas as pd"
   ]
  },
  {
   "cell_type": "code",
   "execution_count": null,
   "metadata": {},
   "outputs": [],
   "source": [
    "#Latihan 1\n",
    "# Import statsmodels under the alias sm\n",
    "import statsmodels as sm\n",
    "\n",
    "# Use an import statement to import seaborn with alias sns\n",
    "import seaborn as sns"
   ]
  },
  {
   "cell_type": "code",
   "execution_count": null,
   "metadata": {},
   "outputs": [],
   "source": [
    "#Creating variables\n",
    "name = \"bayes\"\n",
    "Height = 24\n",
    "Weight = 75.5"
   ]
  },
  {
   "cell_type": "code",
   "execution_count": null,
   "metadata": {},
   "outputs": [],
   "source": [
    "#Latihan 1\n",
    "# Fill in Bayes' age (4.0)\n",
    "bayes_age = 4.0\n",
    "\n",
    "# Display the variable bayes_age\n",
    "print(bayes_age)"
   ]
  },
  {
   "cell_type": "code",
   "execution_count": null,
   "metadata": {},
   "outputs": [],
   "source": [
    "#Latihan 2\n",
    "# Bayes' favorite toy\n",
    "favorite_toy = \"Mr. Squeaky\"\n",
    "\n",
    "# Bayes' owner\n",
    "owner = 'DataCamp'\n",
    "\n",
    "# Display variables\n",
    "print(favorite_toy)\n",
    "print(owner)"
   ]
  },
  {
   "cell_type": "code",
   "execution_count": null,
   "metadata": {},
   "outputs": [],
   "source": [
    "#Fun with functions\n",
    "\n",
    "#Latihan 1\n",
    "# Import pandas\n",
    "import pandas as pd\n",
    "\n",
    "# Load the 'ransom.csv' into a DataFrame\n",
    "r = pd.read_csv('ransom.csv')\n",
    "\n",
    "# Display DataFrame\n",
    "print(r)`"
   ]
  },
  {
   "cell_type": "code",
   "execution_count": null,
   "metadata": {},
   "outputs": [],
   "source": [
    "#Latihan 2\n",
    "# One or more of the following lines contains an error\n",
    "# Correct it so that it runs without producing syntax errors\n",
    "\n",
    "# Plot a graph\n",
    "plt.plot(x_values ,y_values)\n",
    "\n",
    "# Display the graph\n",
    "plt.show()"
   ]
  },
  {
   "cell_type": "code",
   "execution_count": null,
   "metadata": {},
   "outputs": [],
   "source": [
    "#Latihan 3\n",
    "# Define plate to represent a plate beginning with FRQ\n",
    "# Use * to represent the missing four letters\n",
    "plate = 'FRQ****'\n",
    "\n",
    "# Call the function lookup_plate()\n",
    "lookup_plate(plate)\n",
    "\n",
    "# Call lookup_plate() with the keyword argument for color\n",
    "lookup_plate(plate, color = 'Green')"
   ]
  }
 ],
 "metadata": {
  "kernelspec": {
   "display_name": "Python 3",
   "language": "python",
   "name": "python3"
  },
  "language_info": {
   "codemirror_mode": {
    "name": "ipython",
    "version": 3
   },
   "file_extension": ".py",
   "mimetype": "text/x-python",
   "name": "python",
   "nbconvert_exporter": "python",
   "pygments_lexer": "ipython3",
   "version": "3.8.5"
  }
 },
 "nbformat": 4,
 "nbformat_minor": 4
}
