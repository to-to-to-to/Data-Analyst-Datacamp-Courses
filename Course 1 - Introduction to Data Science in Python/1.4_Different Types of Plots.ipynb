{
 "cells": [
  {
   "cell_type": "code",
   "execution_count": null,
   "metadata": {},
   "outputs": [],
   "source": [
    "#Making a scatter plot\n",
    "plt.scatter(df.age, df.height, color = 'Green', marker = \"s\")\n",
    "\n",
    "plt.xlabel(\"Age (in months)\")\n",
    "plt.ylabel(\"Height (in inches)\")\n",
    "\n",
    "plt.show"
   ]
  },
  {
   "cell_type": "code",
   "execution_count": null,
   "metadata": {},
   "outputs": [],
   "source": [
    "#Change Transparency\n",
    "plt.scatter(x_data, y_data, alpha = 0.1)"
   ]
  },
  {
   "cell_type": "code",
   "execution_count": null,
   "metadata": {},
   "outputs": [],
   "source": [
    "#Latihan 1\n",
    "# Explore the data\n",
    "print(cellphone.head())\n",
    "\n",
    "# Create a scatter plot of the data from the DataFrame cellphone\n",
    "plt.scatter(cellphone.x, cellphone.y)\n",
    "\n",
    "# Add labels\n",
    "plt.ylabel('Latitude')\n",
    "plt.xlabel('Longitude')\n",
    "\n",
    "# Display the plot\n",
    "plt.show()"
   ]
  },
  {
   "cell_type": "code",
   "execution_count": null,
   "metadata": {},
   "outputs": [],
   "source": [
    "#Latihan 2\n",
    "# Change the transparency to 0.1\n",
    "plt.scatter(cellphone.x, cellphone.y,\n",
    "           color='red',\n",
    "           marker='s',\n",
    "           alpha = 0.1)\n",
    "\n",
    "# Add labels\n",
    "plt.ylabel('Latitude')\n",
    "plt.xlabel('Longitude')\n",
    "\n",
    "# Display the plot\n",
    "plt.show()"
   ]
  },
  {
   "cell_type": "code",
   "execution_count": null,
   "metadata": {},
   "outputs": [],
   "source": [
    "#Making a bar chart\n",
    "plt.bar(df.precinct, df.pets_abducted)\n",
    "plt.ylabel('y label')\n",
    "\n",
    "plt.show()\n"
   ]
  },
  {
   "cell_type": "code",
   "execution_count": null,
   "metadata": {},
   "outputs": [],
   "source": [
    "#Horizontal Bar Chart\n",
    "plt.barh(df.precinct, df.pets_abducted)\n",
    "plt.ylabel('y label')\n",
    "\n",
    "plt.show()"
   ]
  },
  {
   "cell_type": "code",
   "execution_count": null,
   "metadata": {},
   "outputs": [],
   "source": [
    "#Error Bar\n",
    "plt.bar(df.precinct, df.pets_abducted, yerr = df.error)\n",
    "plt.ylabel('y label')\n",
    "\n",
    "plt.show()"
   ]
  },
  {
   "cell_type": "code",
   "execution_count": null,
   "metadata": {},
   "outputs": [],
   "source": [
    "#Latihan 1\n",
    "# Display the DataFrame hours using print\n",
    "print(hours)\n",
    "\n",
    "# Create a bar plot from the DataFrame hours\n",
    "plt.bar(hours.officer, hours.avg_hours_worked,\n",
    "        # Add error bars\n",
    "        yerr= hours.std_hours_worked)\n",
    "\n",
    "# Display the plot\n",
    "plt.show()"
   ]
  },
  {
   "cell_type": "code",
   "execution_count": null,
   "metadata": {},
   "outputs": [],
   "source": [
    "#Latihan 2\n",
    "# Plot the number of hours spent on desk work\n",
    "plt.bar(hours.officer, hours.desk_work, label='Desk Work')\n",
    "\n",
    "# Plot the hours spent on field work on top of desk work\n",
    "plt.bar(hours.officer, hours.field_work,\n",
    "        bottom=hours.desk_work, label='Field Work')\n",
    "\n",
    "# Add a legend\n",
    "plt.legend()\n",
    "\n",
    "# Display the plot\n",
    "plt.show()"
   ]
  },
  {
   "cell_type": "code",
   "execution_count": null,
   "metadata": {},
   "outputs": [],
   "source": [
    "#Making a histogram\n",
    "plt.hist(gravel.mass, bins = 40)\n",
    "plt.show()\n",
    "\n",
    "#Range\n",
    "plt.hist(gravel.mass, range = (50, 100))\n",
    "plt.show()"
   ]
  },
  {
   "cell_type": "code",
   "execution_count": null,
   "metadata": {},
   "outputs": [],
   "source": [
    "#Latihan 1\n",
    "# Change the number of bins to 50\n",
    "plt.hist(puppies.weight,\n",
    "        bins= 50)\n",
    "\n",
    "# Add labels\n",
    "plt.xlabel('Puppy Weight (lbs)')\n",
    "plt.ylabel('Number of Puppies')\n",
    "\n",
    "# Display\n",
    "plt.show()\n",
    "\n",
    "# Change the range to start at 5 and end at 35\n",
    "plt.hist(puppies.weight,\n",
    "        range=(5, 35))\n",
    "\n",
    "# Add labels\n",
    "plt.xlabel('Puppy Weight (lbs)')\n",
    "plt.ylabel('Number of Puppies')\n",
    "\n",
    "# Display\n",
    "plt.show()"
   ]
  },
  {
   "cell_type": "code",
   "execution_count": null,
   "metadata": {},
   "outputs": [],
   "source": [
    "#Latihan 2\n",
    "# Create a histogram\n",
    "plt.hist(gravel.radius,\n",
    "         bins=40,\n",
    "         range=(2, 8),\n",
    "         density=True)\n",
    "\n",
    "# Label plot\n",
    "plt.xlabel('Gravel Radius (mm)')\n",
    "plt.ylabel('Frequency')\n",
    "plt.title('Sample from Shoeprint')\n",
    "\n",
    "# Display histogram\n",
    "plt.show()"
   ]
  }
 ],
 "metadata": {
  "kernelspec": {
   "display_name": "Python 3",
   "language": "python",
   "name": "python3"
  },
  "language_info": {
   "codemirror_mode": {
    "name": "ipython",
    "version": 3
   },
   "file_extension": ".py",
   "mimetype": "text/x-python",
   "name": "python",
   "nbconvert_exporter": "python",
   "pygments_lexer": "ipython3",
   "version": "3.8.5"
  }
 },
 "nbformat": 4,
 "nbformat_minor": 4
}
