{
 "cells": [
  {
   "cell_type": "code",
   "execution_count": null,
   "metadata": {},
   "outputs": [],
   "source": [
    "#Plotting time-series data\n",
    "import matplotlib.pyplot as plt\n",
    "\n",
    "fig, ax = plt.subplots()\n",
    "ax.plot(climate_change.index, climate_change['co2'])\n",
    "ax.set_xlabel(\"time\")\n",
    "ax.set_ylabel(\"co2\")\n",
    "plt.show()"
   ]
  },
  {
   "cell_type": "code",
   "execution_count": null,
   "metadata": {},
   "outputs": [],
   "source": [
    "#Latihan 1\n",
    "# Import pandas as pd\n",
    "import pandas as pd\n",
    "\n",
    "# Read the data from file using read_csv\n",
    "climate_change = pd.read_csv(\"climate_change.csv\", parse_dates = [\"date\"], index_col = [\"date\"])"
   ]
  },
  {
   "cell_type": "code",
   "execution_count": null,
   "metadata": {},
   "outputs": [],
   "source": [
    "#Latihan 2\n",
    "import matplotlib.pyplot as plt\n",
    "fig, ax = plt.subplots()\n",
    "\n",
    "# Add the time-series for \"relative_temp\" to the plot\n",
    "ax.plot(climate_change.index, climate_change[\"relative_temp\"])\n",
    "\n",
    "# Set the x-axis label\n",
    "ax.set_xlabel(\"Time\")\n",
    "\n",
    "# Set the y-axis label\n",
    "ax.set_ylabel(\"Relative temperature (Celsius)\")\n",
    "\n",
    "# Show the figure\n",
    "plt.show()"
   ]
  },
  {
   "cell_type": "code",
   "execution_count": null,
   "metadata": {},
   "outputs": [],
   "source": [
    "#Latihan 2\n",
    "import matplotlib.pyplot as plt\n",
    "fig, ax = plt.subplots()\n",
    "\n",
    "# Add the time-series for \"relative_temp\" to the plot\n",
    "ax.plot(climate_change.index, climate_change[\"relative_temp\"])\n",
    "\n",
    "# Set the x-axis label\n",
    "ax.set_xlabel(\"Time\")\n",
    "\n",
    "# Set the y-axis label\n",
    "ax.set_ylabel(\"Relative temperature (Celsius)\")\n",
    "\n",
    "# Show the figure\n",
    "plt.show()"
   ]
  },
  {
   "cell_type": "code",
   "execution_count": null,
   "metadata": {},
   "outputs": [],
   "source": [
    "#Plotting time-series with different variables\n",
    "import matplotlib.pyplot as plt\n",
    "\n",
    "fig, ax = plt.subplots()\n",
    "ax.plot(climate_change.index, climate_change['co2'], color = \"b\")\n",
    "ax.set_xlabel(\"time\")\n",
    "ax.set_ylabel(\"co2\", color =\"b\")\n",
    "ax.tick_params('y', color =\"b\")\n",
    "\n",
    "ax2 = ax.twinx()\n",
    "ax2.plot(climate_change.index, climate_change['relative_temp'], color = \"r\")\n",
    "ax2.set_ylabel(\"relative temp\", color = \"r\")\n",
    "ax2.tick_params('y', color =\"r\")\n",
    "\n",
    "plt.show()"
   ]
  },
  {
   "cell_type": "code",
   "execution_count": null,
   "metadata": {},
   "outputs": [],
   "source": [
    "#Latihan 1\n",
    "import matplotlib.pyplot as plt\n",
    "\n",
    "# Initalize a Figure and Axes\n",
    "fig, ax = plt.subplots()\n",
    "\n",
    "# Plot the CO2 variable in blue\n",
    "ax.plot(climate_change.index, climate_change[\"co2\"], color=\"b\")\n",
    "\n",
    "# Create a twin Axes that shares the x-axis\n",
    "ax2 = ax.twinx()\n",
    "\n",
    "# Plot the relative temperature in red\n",
    "ax2.plot(climate_change.index, climate_change[\"relative_temp\"], color= \"r\")\n",
    "\n",
    "plt.show()"
   ]
  },
  {
   "cell_type": "code",
   "execution_count": null,
   "metadata": {},
   "outputs": [],
   "source": [
    "#Latihan 2\n",
    "# Define a function called plot_timeseries\n",
    "def plot_timeseries(axes, x, y, color, xlabel, ylabel):\n",
    "\n",
    "  # Plot the inputs x,y in the provided color\n",
    "  axes.plot(x, y, color= color)\n",
    "\n",
    "  # Set the x-axis label\n",
    "  axes.set_xlabel(xlabel)\n",
    "\n",
    "  # Set the y-axis label\n",
    "  axes.set_ylabel(ylabel, color= color)\n",
    "\n",
    "  # Set the colors tick params for y-axis\n",
    "  axes.tick_params('y', colors= color)"
   ]
  },
  {
   "cell_type": "code",
   "execution_count": null,
   "metadata": {},
   "outputs": [],
   "source": [
    "#Latihan 3\n",
    "fig, ax = plt.subplots()\n",
    "\n",
    "# Plot the CO2 levels time-series in blue\n",
    "plot_timeseries(ax, climate_change.index, climate_change[\"co2\"], \"blue\", \"Time (years)\", \"CO2 levels\")\n",
    "\n",
    "# Create a twin Axes object that shares the x-axis\n",
    "ax2 = ax.twinx()\n",
    "\n",
    "# Plot the relative temperature data in red\n",
    "plot_timeseries(ax2, climate_change.index, climate_change[\"relative_temp\"], \"red\", \"Time (years)\", \"Relative temperature (Celsius)\")\n",
    "\n",
    "plt.show()"
   ]
  },
  {
   "cell_type": "code",
   "execution_count": null,
   "metadata": {},
   "outputs": [],
   "source": [
    "#Annotating time-series data\n",
    "fig, ax = plt.subplots()\n",
    "\n",
    "plot_timeseries(ax, climate_change.index, climate_change[\"co2\"], \"blue\", \"Time (years)\", \"CO2 levels\")\n",
    "ax2 = ax.twinx()\n",
    "\n",
    "plot_timeseries(ax2, climate_change.index, climate_change[\"relative_temp\"], \"red\", \"Time (years)\", \"Relative temperature (Celsius)\")\n",
    "ax2.annotate(\">1 Degree\",xy =(pd.TimeStamp(\"2015-10-06\"), 1),(xytext = (pd.TimeStamp(\"2008-10-6\"), -0.2)), arrowprops = {})\n",
    "plt.show()"
   ]
  },
  {
   "cell_type": "code",
   "execution_count": null,
   "metadata": {},
   "outputs": [],
   "source": [
    "#Latihan 1\n",
    "fig, ax = plt.subplots()\n",
    "\n",
    "# Plot the relative temperature data\n",
    "ax.plot(climate_change.index, climate_change[\"relative_temp\"])\n",
    "\n",
    "# Annotate the date at which temperatures exceeded 1 degree\n",
    "ax.annotate(\">1 degree\", xy = (pd.Timestamp('2015-10-06'), 1))\n",
    "\n",
    "plt.show()"
   ]
  },
  {
   "cell_type": "code",
   "execution_count": null,
   "metadata": {},
   "outputs": [],
   "source": [
    "#Latihan 2\n",
    "# Create an Axes object that shares the x-axis\n",
    "ax2 = ax.twinx()\n",
    "\n",
    "# Plot the relative temperature data in red\n",
    "plot_timeseries(ax2, climate_change.index,climate_change[\"relative_temp\"], 'red',\"Time (years)\", \"Relative temp (Celsius)\")\n",
    "\n",
    "# Annotate point with relative temperature >1 degree\n",
    "ax2.annotate(\">1 degree\",xy=(pd.Timestamp('2015-10-06'), 1),\n",
    "             xytext=(pd.Timestamp('2008-10-06'), -0.2),arrowprops={\"arrowstyle\":\"->\", \"color\":\"gray\"})\n",
    "plt.show()"
   ]
  }
 ],
 "metadata": {
  "kernelspec": {
   "display_name": "Python 3",
   "language": "python",
   "name": "python3"
  },
  "language_info": {
   "codemirror_mode": {
    "name": "ipython",
    "version": 3
   },
   "file_extension": ".py",
   "mimetype": "text/x-python",
   "name": "python",
   "nbconvert_exporter": "python",
   "pygments_lexer": "ipython3",
   "version": "3.8.5"
  }
 },
 "nbformat": 4,
 "nbformat_minor": 4
}
