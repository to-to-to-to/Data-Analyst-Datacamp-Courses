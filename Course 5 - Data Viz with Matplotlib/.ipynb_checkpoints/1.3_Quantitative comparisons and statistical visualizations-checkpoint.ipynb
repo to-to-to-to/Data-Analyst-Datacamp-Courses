{
 "cells": [
  {
   "cell_type": "code",
   "execution_count": null,
   "metadata": {},
   "outputs": [],
   "source": [
    "#Quantitative comparisons: bar-charts\n",
    "medals = pd.read_csv(\"medals_by_country_2016.csv\", index_col = 0)\n",
    "fig, ax = plt.subplots()\n",
    "\n",
    "ax.bar(medals.index, medals[\"Gold\"], label = \"Gold\" )\n",
    "ax.bar(medals.index, medals[\"Silver\"], bottom = medals[\"Gold\"], label = \"Silver\" )\n",
    "ax.bar(medals.index, medals[\"Bronze\"], bottom = medals[\"Gold\"] + medals[\"Silver\"], label = \"Bronze\" )\n",
    "\n",
    "ax.set_xticklabels(medals.index, rotation = 90)\n",
    "ax.set_ylabel(\"Number of Medals\")\n",
    "\n",
    "ax.legend()\n",
    "plt.show()"
   ]
  },
  {
   "cell_type": "code",
   "execution_count": null,
   "metadata": {},
   "outputs": [],
   "source": [
    "#Latihan 1\n",
    "fig, ax = plt.subplots()\n",
    "\n",
    "# Plot a bar-chart of gold medals as a function of country\n",
    "ax.bar(medals.index, medals[\"Gold\"])\n",
    "\n",
    "# Set the x-axis tick labels to the country names\n",
    "ax.set_xticklabels(medals.index, rotation = 90)\n",
    "\n",
    "# Set the y-axis label\n",
    "ax.set_ylabel(\"Number of medals\")\n",
    "\n",
    "plt.show()"
   ]
  },
  {
   "cell_type": "code",
   "execution_count": null,
   "metadata": {},
   "outputs": [],
   "source": [
    "#Latihan 2\n",
    "# Add bars for \"Gold\" with the label \"Gold\"\n",
    "ax.bar(medals.index,medals[\"Gold\"], label= \"Gold\")\n",
    "\n",
    "# Stack bars for \"Silver\" on top with label \"Silver\"\n",
    "ax.bar(medals.index, medals[\"Silver\"], bottom= medals[\"Gold\"], label = \"Silver\")\n",
    "\n",
    "# Stack bars for \"Bronze\" on top of that with label \"Bronze\"\n",
    "ax.bar(medals.index, medals[\"Bronze\"], bottom = medals[\"Gold\"]+ medals[\"Silver\"], label = \"Bronze\")\n",
    "\n",
    "# Display the legend\n",
    "ax.legend()\n",
    "\n",
    "plt.show()"
   ]
  },
  {
   "cell_type": "code",
   "execution_count": null,
   "metadata": {},
   "outputs": [],
   "source": [
    "#Quantitative comparisons: histograms\n",
    "fig, ax = plt.subplots()\n",
    "\n",
    "ax.hist(mens_rowing[\"Height\"], label = \"Rowing\", bins = [150, 160, 170, 180, 190, 200, 210], histtype = \"step\")\n",
    "ax.hist(mens_gymnastic[\"Height\"], label = \"Gymnastics\", bins = [150, 160, 170, 180, 190, 200, 210],  histtype = \"step\")\n",
    "ax.set_xlabel(\"Height(cm)\")\n",
    "ax_setylabel(\"# of observations\")\n",
    "\n",
    "ax.legend()\n",
    "plt.show()"
   ]
  },
  {
   "cell_type": "code",
   "execution_count": null,
   "metadata": {},
   "outputs": [],
   "source": [
    "#Latihan 1\n",
    "fig, ax = plt.subplots()\n",
    "# Plot a histogram of \"Weight\" for mens_rowing\n",
    "ax.hist(mens_rowing[\"Weight\"])\n",
    "\n",
    "# Compare to histogram of \"Weight\" for mens_gymnastics\n",
    "ax.hist(mens_gymnastics[\"Weight\"])\n",
    "\n",
    "# Set the x-axis label to \"Weight (kg)\"\n",
    "ax.set_xlabel(\"Weight (kg)\")\n",
    "\n",
    "# Set the y-axis label to \"# of observations\"\n",
    "ax.set_ylabel(\"# of observations\")\n",
    "\n",
    "plt.show()"
   ]
  },
  {
   "cell_type": "code",
   "execution_count": null,
   "metadata": {},
   "outputs": [],
   "source": [
    "#Latihan 2\n",
    "fig, ax = plt.subplots()\n",
    "\n",
    "# Plot a histogram of \"Weight\" for mens_rowing\n",
    "ax.hist(mens_rowing[\"Weight\"], label = \"Rowing\", histtype = \"step\", bins = 5)\n",
    "\n",
    "# Compare to histogram of \"Weight\" for mens_gymnastics\n",
    "ax.hist(mens_gymnastics[\"Weight\"], label = \"Gymnastics\", histtype = \"step\", bins = 5)\n",
    "\n",
    "ax.set_xlabel(\"Weight (kg)\")\n",
    "ax.set_ylabel(\"# of observations\")\n",
    "\n",
    "# Add the legend and show the Figure\n",
    "ax.legend()\n",
    "plt.show()"
   ]
  },
  {
   "cell_type": "code",
   "execution_count": null,
   "metadata": {},
   "outputs": [],
   "source": [
    "#Statistical plotting\n",
    "fig, ax = plt.subplots()\n",
    "\n",
    "ax.bar(\"Rowing\",mens_rowing[\"Height\"].mean(), yerr = mens_rowing[\"Height\"].std())\n",
    "ax.bar(\"Gymnastics\",mens_gymnastics[\"Height\"].mean(), yerr = mens_gymnastics[\"Height\"].std())\n",
    "\n",
    "ax.set_ylabel(\"Height (cm)\")\n",
    "plt.show()"
   ]
  },
  {
   "cell_type": "code",
   "execution_count": null,
   "metadata": {},
   "outputs": [],
   "source": [
    "#box plot\n",
    "fig, ax = plt.subplots()\n",
    "\n",
    "# Add a boxplot for the \"Height\" column in the DataFrames\n",
    "ax.boxplot([mens_rowing[\"Height\"], mens_gymnastics[\"Height\"]])\n",
    "\n",
    "# Add x-axis tick labels:\n",
    "ax.set_xticklabels([\"Rowing\", \"Gymnastics\"])\n",
    "\n",
    "# Add a y-axis label\n",
    "ax.set_ylabel(\"Height (cm)\")\n",
    "\n",
    "plt.show()"
   ]
  },
  {
   "cell_type": "code",
   "execution_count": null,
   "metadata": {},
   "outputs": [],
   "source": [
    "#Latihan 1\n",
    "fig, ax = plt.subplots()\n",
    "\n",
    "# Add a bar for the rowing \"Height\" column mean/std\n",
    "ax.bar(\"Rowing\", mens_rowing[\"Height\"].mean(), yerr= mens_rowing[\"Height\"].std())\n",
    "\n",
    "# Add a bar for the gymnastics \"Height\" column mean/std\n",
    "ax.bar(\"Gymnastics\", mens_gymnastics[\"Height\"].mean(), yerr= mens_gymnastics[\"Height\"].std())\n",
    "\n",
    "\n",
    "# Label the y-axis\n",
    "ax.set_ylabel(\"Height (cm)\")\n",
    "\n",
    "plt.show()"
   ]
  },
  {
   "cell_type": "code",
   "execution_count": null,
   "metadata": {},
   "outputs": [],
   "source": [
    "#Latihan 2\n",
    "fig, ax = plt.subplots()\n",
    "\n",
    "ax.errorbar(seattle_weather[\"MONTH\"],seattle_weather[\"MLY-TAVG-NORMAL\"],yerr=seattle_weather[\"MLY-TAVG-STDDEV\"])\n",
    "\n",
    "ax.errorbar(austin_weather[\"MONTH\"],austin_weather[\"MLY-TAVG-NORMAL\"],yerr=austin_weather[\"MLY-TAVG-STDDEV\"])\n",
    "\n",
    "ax.set_ylabel(\"Temperature (Fahrenheit)\")\n",
    "\n",
    "plt.show()"
   ]
  },
  {
   "cell_type": "code",
   "execution_count": null,
   "metadata": {},
   "outputs": [],
   "source": [
    "#Quantitative comparisons: scatter plots\n",
    "fig, ax = plt.subplots()\n",
    "\n",
    "ax.scatter(climate_change[\"co2\"], climate_change[\"relative_temp\"])\n",
    "ax.set_xlabel(\"CO2\")\n",
    "ax.set_ylabel(\"Relative Temperature (Celcius)\")\n",
    "\n",
    "plt.show()"
   ]
  },
  {
   "cell_type": "code",
   "execution_count": null,
   "metadata": {},
   "outputs": [],
   "source": [
    "#Latihan 1\n",
    "fig, ax = plt.subplots()\n",
    "\n",
    "# Add data: \"co2\" on x-axis, \"relative_temp\" on y-axis\n",
    "ax.scatter(climate_change[\"co2\"], climate_change[\"relative_temp\"])\n",
    "\n",
    "# Set the x-axis label to \"CO2 (ppm)\"\n",
    "ax.set_xlabel(\"CO2 (ppm)\")\n",
    "\n",
    "# Set the y-axis label to \"Relative temperature (C)\"\n",
    "ax.set_ylabel(\"Relative temperature (C)\")\n",
    "\n",
    "\n",
    "plt.show()"
   ]
  },
  {
   "cell_type": "code",
   "execution_count": null,
   "metadata": {},
   "outputs": [],
   "source": [
    "#Latihan 2\n",
    "fig, ax = plt.subplots()\n",
    "\n",
    "# Add data: \"co2\", \"relative_temp\" as x-y, index as color\n",
    "ax.scatter(climate_change[\"co2\"], climate_change[\"relative_temp\"], c = climate_change.index)\n",
    "\n",
    "# Set the x-axis label to \"CO2 (ppm)\"\n",
    "ax.set_xlabel(\"CO2 (ppm)\")\n",
    "\n",
    "# Set the y-axis label to \"Relative temperature (C)\"\n",
    "ax.set_ylabel(\"Relative temperature (C)\")\n",
    "\n",
    "plt.show()"
   ]
  }
 ],
 "metadata": {
  "kernelspec": {
   "display_name": "Python 3",
   "language": "python",
   "name": "python3"
  },
  "language_info": {
   "codemirror_mode": {
    "name": "ipython",
    "version": 3
   },
   "file_extension": ".py",
   "mimetype": "text/x-python",
   "name": "python",
   "nbconvert_exporter": "python",
   "pygments_lexer": "ipython3",
   "version": "3.8.5"
  }
 },
 "nbformat": 4,
 "nbformat_minor": 4
}
