{
 "cells": [
  {
   "cell_type": "code",
   "execution_count": null,
   "metadata": {},
   "outputs": [],
   "source": [
    "#Latihan 1\n",
    "-- Count the number of rows in universities\n",
    "SELECT COUNT(*) \n",
    "FROM universities;\n",
    "\n",
    "-- Count the number of distinct values in the university_city column\n",
    "SELECT COUNT(DISTINCT(university_city)) \n",
    "FROM universities;"
   ]
  },
  {
   "cell_type": "code",
   "execution_count": null,
   "metadata": {},
   "outputs": [],
   "source": [
    "#Latihan 2\n",
    "-- Try out different combinations\n",
    "SELECT COUNT(DISTINCT(firstname, lastname)) \n",
    "FROM professors;"
   ]
  },
  {
   "cell_type": "code",
   "execution_count": null,
   "metadata": {},
   "outputs": [],
   "source": [
    "#Latihan 3\n",
    "-- Rename the organization column to id\n",
    "ALTER TABLE organizations\n",
    "RENAME COLUMN organization TO id;\n",
    " \n",
    "-- Make id a primary key\n",
    "ALTER TABLE organizations\n",
    "ADD CONSTRAINT organization_pk PRIMARY KEY (id);\n",
    "\n",
    "-- Rename the university_shortname column to id\n",
    "ALTER TABLE universities\n",
    "RENAME COLUMN university_shortname TO id;\n",
    " \n",
    "-- Make id a primary key\n",
    "ALTER TABLE universities\n",
    "ADD CONSTRAINT university_pk PRIMARY KEY (id);"
   ]
  },
  {
   "cell_type": "code",
   "execution_count": null,
   "metadata": {},
   "outputs": [],
   "source": [
    "#Latihan 4\n",
    "-- Add the new column to the table\n",
    "ALTER TABLE professors\n",
    "ADD COLUMN id serial PRIMARY KEY;\n",
    "\n",
    "-- Make id a primary key\n",
    "ALTER TABLE professors \n",
    "ADD CONSTRAINT professors_pkey PRIMARY KEY (id);\n",
    " \n",
    "-- Have a look at the first 10 rows of professors\n",
    "SELECT *\n",
    "FROM professors\n",
    "LIMIT 10;"
   ]
  },
  {
   "cell_type": "code",
   "execution_count": null,
   "metadata": {},
   "outputs": [],
   "source": [
    "#Latihan 5\n",
    "-- Count the number of distinct rows with columns make, model\n",
    "SELECT COUNT(DISTINCT(make, model)) \n",
    "FROM cars;\n",
    " \n",
    "-- Add the id column\n",
    "ALTER TABLE cars\n",
    "ADD COLUMN id varchar(128);\n",
    " \n",
    "-- Update id with make + model\n",
    "UPDATE cars\n",
    "SET id = CONCAT(make, model);\n",
    " \n",
    "-- Make id a primary key\n",
    "ALTER TABLE cars\n",
    "ADD CONSTRAINT id_pk PRIMARY KEY(id);\n",
    " \n",
    "-- Have a look at the table\n",
    "SELECT * FROM cars;"
   ]
  },
  {
   "cell_type": "code",
   "execution_count": null,
   "metadata": {},
   "outputs": [],
   "source": [
    "#Latihan 6\n",
    "-- Create the table\n",
    "CREATE TABLE students (\n",
    "  last_name varchar(128) NOT NULL,\n",
    "  ssn integer PRIMARY KEY,\n",
    "  phone_no char(12)\n",
    ");"
   ]
  }
 ],
 "metadata": {
  "kernelspec": {
   "display_name": "Python 3",
   "language": "python",
   "name": "python3"
  },
  "language_info": {
   "codemirror_mode": {
    "name": "ipython",
    "version": 3
   },
   "file_extension": ".py",
   "mimetype": "text/x-python",
   "name": "python",
   "nbconvert_exporter": "python",
   "pygments_lexer": "ipython3",
   "version": "3.8.5"
  }
 },
 "nbformat": 4,
 "nbformat_minor": 4
}
