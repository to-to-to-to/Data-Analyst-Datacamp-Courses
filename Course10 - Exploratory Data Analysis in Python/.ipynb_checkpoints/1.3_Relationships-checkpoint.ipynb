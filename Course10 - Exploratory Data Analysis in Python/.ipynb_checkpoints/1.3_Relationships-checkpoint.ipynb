{
 "cells": [
  {
   "cell_type": "code",
   "execution_count": null,
   "metadata": {},
   "outputs": [],
   "source": [
    "#Exploring relationships\n",
    "brfss = pd.read_hdf('brfss.hdf5', 'brfss')\n",
    "height = brfss['HTM4']\n",
    "weight = brfss['WTKG3']\n",
    "\n",
    "plt.plot(height, weight, 'o', alpha = 0.02, markersize = 1)\n",
    "plt.show()\n",
    "\n",
    "#Jittering\n",
    "height_jitter = height + np.random.normal(0, 2, size=len(brfss))\n",
    "weight_jitter = weight + np.random.normal(0, 2, size=len(brfss))\n",
    "plt.plot(height_jitter, weight_jitter, 'o', markersize=1, alpha=0.01)\n",
    "plt.show()\n",
    "\n",
    "#zoom\n",
    "plt.plot(height_jitter, weight_jitter, 'o', markersize=1, alpha=0.02)\n",
    "plt.axis([140, 200, 0, 160])\n",
    "plt.show()"
   ]
  },
  {
   "cell_type": "code",
   "execution_count": null,
   "metadata": {},
   "outputs": [],
   "source": [
    "#Latihan 1\n",
    "# Extract age\n",
    "age = brfss['AGE']\n",
    "\n",
    "# Plot the PMF\n",
    "Pmf(age).bar()\n",
    "\n",
    "# Label the axes\n",
    "plt.xlabel('Age in years')\n",
    "plt.ylabel('PMF')\n",
    "plt.show()"
   ]
  },
  {
   "cell_type": "code",
   "execution_count": null,
   "metadata": {},
   "outputs": [],
   "source": [
    "#Latihan 2\n",
    "# Select the first 1000 respondents\n",
    "brfss = brfss[:1000]\n",
    "\n",
    "# Extract age and weight\n",
    "age = brfss['AGE']\n",
    "weight = brfss['WTKG3']\n",
    "\n",
    "# Make a scatter plot\n",
    "plt.plot(age, weight, 'o', alpha = 0.1)\n",
    "\n",
    "plt.xlabel('Age in years')\n",
    "plt.ylabel('Weight in kg')\n",
    "\n",
    "plt.show()"
   ]
  },
  {
   "cell_type": "code",
   "execution_count": null,
   "metadata": {},
   "outputs": [],
   "source": [
    "#Latihan 3\n",
    "# Select the first 1000 respondents\n",
    "brfss = brfss[:1000]\n",
    "\n",
    "# Add jittering to age\n",
    "age = brfss['AGE'] + np.random.normal(0, 2.5, size = len(brfss))\n",
    "# Extract weight\n",
    "weight = brfss['WTKG3']\n",
    "\n",
    "# Make a scatter plot\n",
    "plt.plot(age,weight,'o', markersize = 5, alpha = 0.2 )\n",
    "\n",
    "plt.xlabel('Age in years')\n",
    "plt.ylabel('Weight in kg')\n",
    "plt.show()"
   ]
  },
  {
   "cell_type": "code",
   "execution_count": null,
   "metadata": {},
   "outputs": [],
   "source": [
    "#Visualizing relationships\n",
    "\n",
    "#Violin Plot\n",
    "data = brfss.dropna(subset=['AGE', 'WTKG3'])\n",
    "sns.violinplot(x='AGE', y='WTKG3', data=data, inner=None)\n",
    "plt.show()\n",
    "\n",
    "#Box plot\n",
    "sns.boxplot(x='AGE', y='WTKG3', data=data, whis=10)\n",
    "plt.show()\n",
    "\n",
    "#log scale\n",
    "sns.boxplot(x='AGE', y='WTKG3', data=data, whis=10)\n",
    "plt.yscale('log')\n",
    "1plt.show()\n"
   ]
  },
  {
   "cell_type": "code",
   "execution_count": null,
   "metadata": {},
   "outputs": [],
   "source": [
    "#Latihan 1\n",
    "# Drop rows with missing data\n",
    "data = brfss.dropna(subset=['_HTMG10', 'WTKG3'])\n",
    "\n",
    "# Make a box plot\n",
    "sns.boxplot(x='_HTMG10', y='WTKG3', data=data, whis=10)\n",
    "\n",
    "# Plot the y-axis on a log scale\n",
    "plt.yscale('log')\n",
    "\n",
    "# Remove unneeded lines and label axes\n",
    "sns.despine(left=True, bottom=True)\n",
    "plt.xlabel('Height in cm')\n",
    "plt.ylabel('Weight in kg')\n",
    "plt.show()"
   ]
  },
  {
   "cell_type": "code",
   "execution_count": null,
   "metadata": {},
   "outputs": [],
   "source": [
    "#Latihan 2\n",
    "# Extract income\n",
    "income = brfss['INCOME2']\n",
    "\n",
    "# Plot the PMF\n",
    "Pmf(income).bar()\n",
    "\n",
    "# Label the axes\n",
    "plt.xlabel('Income level')\n",
    "plt.ylabel('PMF')\n",
    "plt.show()"
   ]
  },
  {
   "cell_type": "code",
   "execution_count": null,
   "metadata": {},
   "outputs": [],
   "source": [
    "#Latihan 3\n",
    "# Drop rows with missing data\n",
    "data = brfss.dropna(subset=['INCOME2', 'HTM4'])\n",
    "\n",
    "# Make a violin plot\n",
    "sns.violinplot(x = 'INCOME2', y = 'HTM4', data=data, inner=None)\n",
    "\n",
    "# Remove unneeded lines and label axes\n",
    "sns.despine(left=True, bottom=True)\n",
    "plt.xlabel('Income level')\n",
    "plt.ylabel('Height in cm')\n",
    "plt.show()"
   ]
  },
  {
   "cell_type": "code",
   "execution_count": null,
   "metadata": {},
   "outputs": [],
   "source": [
    "#Correlation\n",
    "columns = ['HTM4', 'WTKG3', 'AGE']\n",
    "subset = brfss[columns]\n",
    "subset.corr()\n",
    "\n",
    "xs = np.linspace(-1, 1)\n",
    "ys = xs**2\n",
    "ys += normal(0, 0.05, len(xs))\n",
    "np.corrcoef(xs, ys)"
   ]
  },
  {
   "cell_type": "code",
   "execution_count": null,
   "metadata": {},
   "outputs": [],
   "source": [
    "#Latihan1\n",
    "# Select columns\n",
    "columns = ['AGE', 'INCOME2', '_VEGESU1']\n",
    "subset = brfss[columns]\n",
    "\n",
    "# Compute the correlation matrix\n",
    "print(subset.corr())"
   ]
  },
  {
   "cell_type": "code",
   "execution_count": null,
   "metadata": {},
   "outputs": [],
   "source": [
    "#Simple regression\n",
    "\n",
    "from scipy.stats import linregress\n",
    "\n",
    "# Hypothetical 1\n",
    "res = linregress(xs, ys)\n",
    "\n",
    "# Hypothetical 2\n",
    "res = linregress(xs, ys)\n",
    "\n",
    "#Regression line\n",
    "subset = brfss.dropna(subset=['WTKG3', 'HTM4'])\n",
    "\n",
    "xs = subset['HTM4']\n",
    "ys = subset['WTKG3']\n",
    "res = linregress(xs, ys)\n",
    "\n",
    "fx = np.array([xs.min(), xs.max()])\n",
    "fy = res.intercept + res.slope * fx\n",
    "plt.plot(fx, fy, '-')\n",
    "\n",
    "#non linear relationship\n",
    "subset = brfss.dropna(subset=['WTKG3', 'AGE'])\n",
    "xs = subset['AGE']\n",
    "ys = subset['WTKG3']\n",
    "res = linregress(xs, ys)"
   ]
  },
  {
   "cell_type": "code",
   "execution_count": null,
   "metadata": {},
   "outputs": [],
   "source": [
    "#Latihan 1\n",
    "from scipy.stats import linregress\n",
    "\n",
    "# Extract the variables\n",
    "subset = brfss.dropna(subset=['INCOME2', '_VEGESU1'])\n",
    "xs = subset['INCOME2']\n",
    "ys = subset['_VEGESU1']\n",
    "\n",
    "# Compute the linear regression\n",
    "res = linregress(xs, ys)\n",
    "print(res)"
   ]
  },
  {
   "cell_type": "code",
   "execution_count": null,
   "metadata": {},
   "outputs": [],
   "source": [
    "#Latihan 2\n",
    "# Plot the scatter plot\n",
    "plt.clf()\n",
    "x_jitter = xs + np.random.normal(0, 0.15, len(xs))\n",
    "plt.plot(x_jitter, ys, 'o', alpha=0.2)\n",
    "\n",
    "# Plot the line of best fit\n",
    "fx = np.array([xs.min(), xs.max()])\n",
    "fy = res.intercept + res.slope * fx\n",
    "plt.plot(fx, fy, '-', alpha=0.7)\n",
    "\n",
    "plt.xlabel('Income code')\n",
    "plt.ylabel('Vegetable servings per day')\n",
    "plt.ylim([0, 6])\n",
    "plt.show()"
   ]
  }
 ],
 "metadata": {
  "kernelspec": {
   "display_name": "Python 3",
   "language": "python",
   "name": "python3"
  },
  "language_info": {
   "codemirror_mode": {
    "name": "ipython",
    "version": 3
   },
   "file_extension": ".py",
   "mimetype": "text/x-python",
   "name": "python",
   "nbconvert_exporter": "python",
   "pygments_lexer": "ipython3",
   "version": "3.8.5"
  }
 },
 "nbformat": 4,
 "nbformat_minor": 4
}
